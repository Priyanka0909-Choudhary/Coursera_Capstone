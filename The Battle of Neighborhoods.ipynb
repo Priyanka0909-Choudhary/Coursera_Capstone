{
    "cells": [
        {
            "cell_type": "markdown",
            "metadata": {
                "collapsed": true
            },
            "source": "# The Battle of Neighbourhoods - Capstone Project Coursera"
        },
        {
            "cell_type": "markdown",
            "metadata": {},
            "source": "## Description and discussion of the background\n### Delhi, the National Capital Territory of India is one of the biggest Metropolitan Cities in India. It covers 1,484 square kilometres, with a population of about 16.8 million as of 2011 census. In this project, I have chosen to work with Housing prices and venues in Delhi. As a Delhi resident, I am excited to apply the Data Science methodologies and predict the necessary using whatever I have learned till now."
        },
        {
            "cell_type": "markdown",
            "metadata": {},
            "source": "## PROBLEM\n### Various job opportunities and a good lifestyle attract a lot of people and companies to settle in Delhi. Therefore, real estate becomes an important topic. With high-density population and competitive businesses, investors would look for cheap and less crowded (concerning the type of business they want to invest in) to maximise their profits and revenues for long term benefits.\n### This also attracts people who have jobs and want to settle; the first thing they look for is cheaper places with good amenities. However, there are very few resources available to give a head start in such cases where we can compare this information together for all regions and get everything together (info about housing prices and venues).\n"
        },
        {
            "cell_type": "markdown",
            "metadata": {},
            "source": "### The project aims to develop an interactive chart to concisely represent the housing prices and the top venues around regions of interest. Delhi has a total of eleven administrative districts and 33 sub-divisions in total. Therefore, I will cluster all the principal outlets for different neighbourhoods and the average housing price for each one. A helpful and straightforward representation can be created with an interactive map to give a head start for further research and results. \n\n## DATA\n### As mentioned in the problem statement, we would require the data for the following:\n### 1.\tAverage housing retail prices for each of the district. The source will be 99acers website (a good property rates platform in India). I am planning to use only residential apartments for this project. The assumption is that since Delhi is a densely populated city, most of the land will be available in this form only. \n### 2.\tAs given in the question, I will use Foursquare API for getting the different venues in Delhi.\n"
        },
        {
            "cell_type": "code",
            "execution_count": null,
            "metadata": {},
            "outputs": [],
            "source": ""
        }
    ],
    "metadata": {
        "kernelspec": {
            "display_name": "Python 3.7",
            "language": "python",
            "name": "python3"
        },
        "language_info": {
            "codemirror_mode": {
                "name": "ipython",
                "version": 3
            },
            "file_extension": ".py",
            "mimetype": "text/x-python",
            "name": "python",
            "nbconvert_exporter": "python",
            "pygments_lexer": "ipython3",
            "version": "3.7.9"
        }
    },
    "nbformat": 4,
    "nbformat_minor": 1
}